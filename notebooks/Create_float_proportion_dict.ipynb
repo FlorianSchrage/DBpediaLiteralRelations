{
 "cells": [
  {
   "cell_type": "code",
   "execution_count": null,
   "metadata": {},
   "outputs": [],
   "source": [
    "import collections\n",
    "from utils.myutils import load_object, split_triple, save_object"
   ]
  },
  {
   "cell_type": "code",
   "execution_count": null,
   "metadata": {},
   "outputs": [],
   "source": [
    "file_path_triples_filtered_sorted_by_relation = \"dbpedia/mappingbased_literals_en_filtered_sorted_by_relation.ttl\"\n",
    "triples_file_filtered_sorted_by_relation = open(file_path_triples_filtered_sorted_by_relation, 'r', encoding='utf-8')\n",
    "relation_type_dict = load_object(\"relation_type_dict\")\n",
    "types_int = load_object(\"types_int\")\n",
    "types_float = load_object(\"types_float\")"
   ]
  },
  {
   "cell_type": "code",
   "execution_count": null,
   "metadata": {},
   "outputs": [],
   "source": [
    "counter_all = collections.Counter()\n",
    "counter_float_int = collections.Counter()\n",
    "\n",
    "relations = list()\n",
    "\n",
    "prev = None\n",
    "for i, line in enumerate(triples_file_filtered_sorted_by_relation):    \n",
    "    \n",
    "    triple = split_triple(line)\n",
    "    fact_number = triple[2].split(\"^^\")[0]\n",
    "    \n",
    "    if prev != triple[1] and prev != None and relation_type_dict[prev[1:-1]] in types_float:\n",
    "        print(prev)\n",
    "        print(str(counter_all[prev]))\n",
    "        print(str(counter_float_int[prev]))\n",
    "        print(str(counter_float_int[prev] / counter_all[prev]))\n",
    "        relations.append(counter_float_int[prev] / counter_all[prev])\n",
    "    \n",
    "    prev = triple[1]\n",
    "    \n",
    "    counter_all[triple[1]] += 1\n",
    "\n",
    "    if relation_type_dict[triple[1][1:-1]] in types_float and float(fact_number).is_integer():\n",
    "        counter_float_int[triple[1]] += 1\n",
    "\n",
    "file_path_triples_filtered_sorted_by_relation.close()"
   ]
  },
  {
   "cell_type": "code",
   "execution_count": null,
   "metadata": {},
   "outputs": [],
   "source": [
    "new_dict = dict()\n",
    "for rel, cnt in counter_all.items():\n",
    "    new_dict[rel] = counter_float_int[rel] / cnt"
   ]
  },
  {
   "cell_type": "code",
   "execution_count": null,
   "metadata": {},
   "outputs": [],
   "source": [
    "save_object(new_dict, 'float_proportion_dict')"
   ]
  }
 ],
 "metadata": {
  "kernelspec": {
   "display_name": "Python 3",
   "language": "python",
   "name": "python3"
  },
  "language_info": {
   "codemirror_mode": {
    "name": "ipython",
    "version": 3
   },
   "file_extension": ".py",
   "mimetype": "text/x-python",
   "name": "python",
   "nbconvert_exporter": "python",
   "pygments_lexer": "ipython3",
   "version": "3.6.4"
  }
 },
 "nbformat": 4,
 "nbformat_minor": 2
}
