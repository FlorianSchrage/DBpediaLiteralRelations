{
 "cells": [
  {
   "cell_type": "code",
   "execution_count": 27,
   "metadata": {},
   "outputs": [],
   "source": [
    "import os\n",
    "import pandas as pd\n",
    "import numpy as np\n",
    "from utils.myutils import load_object, save_object, long_name, short_name\n",
    "from sklearn.linear_model import LinearRegression\n",
    "from scipy import stats\n",
    "from math import sqrt"
   ]
  },
  {
   "cell_type": "code",
   "execution_count": 2,
   "metadata": {},
   "outputs": [],
   "source": [
    "unit_conversion_dict = load_object('unit_conversion_dict')\n",
    "unit_dict = load_object('unit_dict')\n",
    "unit_reverse_dict = load_object('unit_reverse_dict')"
   ]
  },
  {
   "cell_type": "code",
   "execution_count": 331,
   "metadata": {},
   "outputs": [
    {
     "name": "stdout",
     "output_type": "stream",
     "text": [
      "--- acceleration.csv---\n",
      "--- apoapsis.csv---\n",
      "Abort: Score decreased\n",
      "Discarded years\n",
      "--- approximateCalories.csv---\n",
      "--- area.csv---\n",
      "Abort: Factor did not change any more\n",
      "km² -> m2\n",
      "137\n",
      "1.0\n",
      "[1000000.]\n",
      "---\n",
      "Abort: Too less instances\n",
      "km2 -> m2\n",
      "107\n",
      "0.9999999999933139\n",
      "[999999.99856751]\n",
      "---\n",
      "Abort: Score decreased\n",
      "ha -> m2\n",
      "101\n",
      "0.9998398975344222\n",
      "[9989.34047494]\n",
      "---\n",
      "square has declared to be no unit and will be excluded.\n",
      "--- areaLand.csv---\n",
      "Abort: Score decreased\n",
      "Discarded by\n",
      "Abort: Perfect fit\n",
      "km2 -> m2\n",
      "470\n",
      "1.0\n",
      "[1000000.]\n",
      "---\n",
      "square has declared to be no unit and will be excluded.\n",
      "Abort: Perfect fit\n",
      "km² -> m2\n",
      "189\n",
      "1.0\n",
      "[1000000.]\n",
      "---\n",
      "--- areaMetro.csv---\n",
      "--- areaOfCatchment.csv---\n",
      "Abort: Score decreased\n",
      "km2 -> m2\n",
      "113\n",
      "0.9531199342294102\n",
      "[7381943.97668456]\n",
      "---\n",
      "square has declared to be no unit and will be excluded.\n",
      "--- areaRural.csv---\n",
      "--- areaTotal.csv---\n",
      "square has declared to be no unit and will be excluded.\n",
      "Abort: Perfect fit\n",
      "km2 -> m2\n",
      "4304\n",
      "1.0\n",
      "[1000000.]\n",
      "---\n",
      "Abort: Factor did not change any more\n",
      "\\n* -> m2\n",
      "506\n",
      "0.9999578013672313\n",
      "[4090.84889459]\n",
      "---\n",
      "Abort: Score decreased\n",
      "Discarded wards\n",
      "Abort: Score decreased\n",
      "registered -> m2\n",
      "81\n",
      "0.9219924464307162\n",
      "[2038.26062258]\n",
      "---\n",
      "Abort: Score decreased\n",
      "Discarded based\n",
      "--- areaUrban.csv---\n",
      "--- areaWater.csv---\n",
      "square has declared to be no unit and will be excluded.\n",
      "Abort: Factor did not change any more\n",
      "km² -> m2\n",
      "113\n",
      "0.9999938488294746\n",
      "[23243.38509274]\n",
      "---\n",
      "--- assets.csv---\n",
      "--- assetUnderManagement.csv---\n",
      "--- averageAnnualGeneration.csv---\n",
      "--- averageDepth.csv---\n",
      "Abort: Score decreased\n",
      "Discarded square\n",
      "Abort: Score decreased\n",
      "Discarded miles\n",
      "--- averageSpeed.csv---\n",
      "Abort: Score decreased\n",
      "Discarded is\n",
      "--- budget.csv---\n",
      "Abort: Factor did not change any more\n",
      "pupils -> $\n",
      "1535\n",
      "0.998726437191638\n",
      "[13760.8128228]\n",
      "---\n",
      "Abort: Score decreased\n",
      "teachers -> $\n",
      "1495\n",
      "0.9934338161794005\n",
      "[125847.80820828]\n",
      "---\n",
      "Abort: Score decreased\n",
      "full-time -> $\n",
      "1461\n",
      "0.9121240237626661\n",
      "[73452.93819078]\n",
      "---\n",
      "Abort: Factor did not change any more\n",
      "students -> $\n",
      "246\n",
      "0.9988750037042666\n",
      "[7403.96848415]\n",
      "---\n",
      "--- bustSize.csv---\n",
      "--- campusSize.csv---\n",
      "Abort: Perfect fit\n",
      "acres -> m2\n",
      "73\n",
      "1.0\n",
      "[4046.8564224]\n",
      "---\n",
      "--- capitalElevation.csv---\n",
      "--- carbohydrate.csv---\n",
      "--- careerPrizeMoney.csv---\n",
      "--- co2Emission.csv---\n",
      "--- cost.csv---\n",
      "--- course.csv---\n",
      "--- cylinderBore.csv---\n",
      "--- density.csv---\n",
      "--- depth.csv---\n",
      "--- diameter.csv---\n",
      "--- discharge.csv---\n",
      "Abort: Factor did not change any more\n",
      "sq -> m³/s\n",
      "102\n",
      "0.9878950269020419\n",
      "[0.03901855]\n",
      "---\n",
      "Abort: Score decreased\n",
      "square -> m³/s\n",
      "84\n",
      "0.920730937033198\n",
      "[0.02752726]\n",
      "---\n",
      "--- dischargeAverage.csv---\n",
      "--- displacement.csv---\n",
      "Abort: Factor did not change any more\n",
      "l -> μ³\n",
      "103\n",
      "0.9999990056368643\n",
      "[0.0009995]\n",
      "---\n",
      "--- distance.csv---\n",
      "Abort: Factor did not change any more\n",
      "kilometres -> μ\n",
      "103\n",
      "0.999995864240369\n",
      "[1000.10697208]\n",
      "---\n",
      "--- distanceToBelfast.csv---\n",
      "--- distanceToCardiff.csv---\n",
      "--- distanceToCharingCross.csv---\n",
      "Abort: Factor did not change any more\n",
      "km -> μ\n",
      "71\n",
      "0.9999995861429509\n",
      "[1000.81577734]\n",
      "---\n",
      "--- distanceToDouglas.csv---\n",
      "--- distanceToDublin.csv---\n",
      "--- distanceToEdinburgh.csv---\n",
      "--- distanceToLondon.csv---\n",
      "--- duration.csv---\n",
      "--- effectiveRadiatedPower.csv---\n",
      "--- elevation.csv---\n",
      "Abort: Perfect fit\n",
      "Discarded equivalent unit: m\n",
      "Abort: Factor did not change any more\n",
      "Discarded equivalent unit: metres\n",
      "Abort: Factor did not change any more\n",
      "feet -> μ\n",
      "4488\n",
      "0.9999999842828393\n",
      "[0.30478946]\n",
      "---\n",
      "Abort: Factor did not change any more\n",
      "Discarded equivalent unit: meters\n",
      "Abort: Factor did not change any more\n",
      "Discarded equivalent unit: m.\n",
      "Abort: Factor did not change any more\n",
      "Discarded equivalent unit: metre\n",
      "Abort: Perfect fit\n",
      "Discarded equivalent unit: above\n",
      "Abort: Factor did not change any more\n",
      "Discarded equivalent unit: high\n",
      "Abort: Factor did not change any more\n",
      "now -> μ\n",
      "73\n",
      "0.99815049152993\n",
      "[0.01788167]\n",
      "---\n",
      "--- endowment.csv---\n",
      "--- equity.csv---\n",
      "--- escapeVelocity.csv---\n",
      "--- fat.csv---\n",
      "--- fees.csv---\n",
      "--- fileSize.csv---\n",
      "--- floorArea.csv---\n",
      "square has declared to be no unit and will be excluded.\n",
      "Abort: Score decreased\n",
      "Discarded meters\n",
      "Abort: Score decreased\n",
      "Discarded feet\n",
      "--- frequency.csv---\n",
      "--- fuelCapacity.csv---\n",
      "--- governmentElevation.csv---\n",
      "--- gross.csv---\n",
      "--- grossDomesticProduct.csv---\n",
      "--- height.csv---\n",
      "Abort: Factor did not change any more\n",
      "floors -> μ\n",
      "131\n",
      "0.9901982470622719\n",
      "[3.5281933]\n",
      "---\n",
      "Abort: Score decreased\n",
      "set -> μ\n",
      "79\n",
      "0.9736079883547784\n",
      "[0.17815529]\n",
      "---\n",
      "--- heightAboveAverageTerrain.csv---\n",
      "Abort: Factor did not change any more\n",
      "ft -> μ\n",
      "96\n",
      "0.9999995800575805\n",
      "[0.30486002]\n",
      "---\n",
      "--- hipSize.csv---\n",
      "--- imageSize.csv---\n",
      "--- installedCapacity.csv---\n",
      "Abort: Factor did not change any more\n",
      "megawatts -> W\n",
      "256\n",
      "1.0\n",
      "[1000000.]\n",
      "---\n",
      "Abort: Factor did not change any more\n",
      "hp -> W\n",
      "211\n",
      "0.9999999979160107\n",
      "[745.89997691]\n",
      "---\n",
      "--- length.csv---\n",
      "Abort: Perfect fit\n",
      "kilometres -> μ\n",
      "4313\n",
      "1.0\n",
      "[1000.]\n",
      "---\n",
      "Abort: Score decreased\n",
      "Discarded kilometers\n",
      "Abort: Score decreased\n",
      "Discarded l\n",
      "Abort: Perfect fit\n",
      "kilometre -> μ\n",
      "94\n",
      "1.0\n",
      "[1000.]\n",
      "---\n",
      "--- lineLength.csv---\n",
      "Abort: Perfect fit\n",
      "miles -> μ\n",
      "76\n",
      "1.0\n",
      "[1609.344]\n",
      "---\n",
      "--- loadLimit.csv---\n",
      "--- lowerEarthOrbitPayload.csv---\n",
      "--- mainspan.csv---\n",
      "--- managementElevation.csv---\n",
      "--- mass.csv---\n",
      "--- maximumBoatBeam.csv---\n",
      "--- maximumBoatLength.csv---\n",
      "--- maximumDepth.csv---\n",
      "Abort: Score decreased\n",
      "Discarded km2\n",
      "--- maximumDischarge.csv---\n",
      "Abort: Score decreased\n",
      "Discarded km\n",
      "--- maximumElevation.csv---\n",
      "Abort: Factor did not change any more\n",
      "ft -> μ\n",
      "314\n",
      "0.9999999943931072\n",
      "[0.304803]\n",
      "---\n",
      "Abort: Factor did not change any more\n",
      "Discarded equivalent unit: m\n",
      "Abort: Factor did not change any more\n",
      "Discarded equivalent unit: metres\n",
      "Abort: Too less instances\n",
      "feet -> μ\n",
      "70\n",
      "0.9999996339170989\n",
      "[0.30481358]\n",
      "---\n",
      "--- maximumTemperature.csv---\n",
      "--- maxTime.csv---\n",
      "--- meanRadius.csv---\n",
      "--- meanTemperature.csv---\n",
      "--- minimumDischarge.csv---\n",
      "Abort: Score decreased\n",
      "square -> m³/s\n",
      "77\n",
      "0.8644705710943511\n",
      "[0.00272212]\n",
      "---\n",
      "--- minimumElevation.csv---\n",
      "--- minimumTemperature.csv---\n",
      "--- minTime.csv---\n",
      "--- mouthElevation.csv---\n",
      "--- netIncome.csv---\n",
      "--- networth.csv---\n",
      "--- operatingIncome.csv---\n",
      "--- orbitalPeriod.csv---\n",
      "--- originalMaximumBoatBeam.csv---\n",
      "--- originalMaximumBoatLength.csv---\n",
      "--- periapsis.csv---\n",
      "--- pistonStroke.csv---\n",
      "--- populationDensity.csv---\n",
      "--- populationMetroDensity.csv---\n",
      "--- populationUrbanDensity.csv---\n",
      "--- powerOutput.csv---\n",
      "--- programCost.csv---\n",
      "--- projectBudgetFunding.csv---\n",
      "--- projectBudgetTotal.csv---\n",
      "--- prominence.csv---\n",
      "--- protein.csv---\n",
      "--- railGauge.csv---\n",
      "--- revenue.csv---\n",
      "--- rotationPeriod.csv---\n",
      "Abort: Factor did not change any more\n",
      "hours -> s\n",
      "645\n",
      "1.0\n",
      "[3600.]\n",
      "---\n",
      "--- runtime.csv---\n",
      "Abort: Score decreased\n",
      "mgm -> s\n",
      "110\n",
      "0.8597624803503081\n",
      "[2.91164271]\n",
      "---\n",
      "Abort: Score decreased\n",
      "Discarded ’\n",
      "--- runwayLength.csv---\n",
      "--- salary.csv---\n",
      "--- servingSize.csv---\n",
      "--- shipBeam.csv---\n",
      "Abort: Factor did not change any more\n",
      "cm -> μ\n",
      "136\n",
      "0.8895984644222616\n",
      "[0.8425713]\n",
      "---\n",
      "--- shipDisplacement.csv---\n",
      "--- shipDraft.csv---\n",
      "--- shoreLength.csv---\n",
      "Abort: Score decreased\n",
      "kilometres -> μ\n",
      "428\n",
      "0.9375420775711489\n",
      "[919.70452568]\n",
      "---\n",
      "Abort: Factor did not change any more\n",
      "mi -> μ\n",
      "218\n",
      "0.9999930914219847\n",
      "[1607.78539185]\n",
      "---\n",
      "Abort: Factor did not change any more\n",
      "sq -> μ\n",
      "102\n",
      "0.9999986672453446\n",
      "[2.72180053]\n",
      "---\n",
      "--- sourceConfluenceElevation.csv---\n",
      "--- sourceElevation.csv---\n",
      "--- speedLimit.csv---\n",
      "Abort: Factor did not change any more\n",
      "Discarded equivalent unit: km/h\n",
      "Abort: Factor did not change any more\n",
      "mph -> kmh\n",
      "73\n",
      "0.9999951470734575\n",
      "[1.61337898]\n",
      "---\n",
      "--- surfaceArea.csv---\n",
      "--- temperature.csv---\n",
      "--- timeInSpace.csv---\n",
      "--- toll.csv---\n",
      "--- topSpeed.csv---\n",
      "Abort: Factor did not change any more\n",
      "knots -> kmh\n",
      "145\n",
      "1.0\n",
      "[1.852]\n",
      "---\n",
      "--- torqueOutput.csv---\n",
      "--- trackLength.csv---\n",
      "--- tuition.csv---\n",
      "--- unitCost.csv---\n",
      "--- voltageOfElectrification.csv---\n",
      "--- volume.csv---\n",
      "Abort: Score decreased\n",
      "sq -> μ³\n",
      "225\n",
      "0.8848301111997803\n",
      "[7.43419345e+09]\n",
      "---\n",
      "Abort: Score decreased\n",
      "Discarded miles\n",
      "Abort: Score decreased\n",
      "square -> μ³\n",
      "104\n",
      "0.9998122020539325\n",
      "[2.87172845e+09]\n",
      "---\n",
      "--- waistSize.csv---\n",
      "--- watershed.csv---\n",
      "square has declared to be no unit and will be excluded.\n",
      "--- wavelength.csv---\n",
      "--- weight.csv---\n",
      "Abort: Score decreased\n",
      "hp -> g\n",
      "389\n",
      "0.9760176058805515\n",
      "[31922.2440789]\n",
      "---\n",
      "Abort: Score decreased\n",
      "gb -> g\n",
      "178\n",
      "0.9122038204941979\n",
      "[25.11638382]\n",
      "---\n",
      "Abort: Factor did not change any more\n",
      "pounds -> g\n",
      "97\n",
      "1.0\n",
      "[453.6]\n",
      "---\n",
      "Abort: Perfect fit\n",
      "kilograms -> g\n",
      "95\n",
      "1.0\n",
      "[1000.]\n",
      "---\n"
     ]
    },
    {
     "name": "stdout",
     "output_type": "stream",
     "text": [
      "Abort: Score decreased\n",
      "Discarded tests\n",
      "--- wheelbase.csv---\n",
      "--- width.csv---\n",
      "Abort: Score decreased\n",
      "km2 -> μ\n",
      "272\n",
      "0.8703676913573761\n",
      "[0.64218346]\n",
      "---\n",
      "Abort: Score decreased\n",
      "Discarded square\n",
      "Abort: Score decreased\n",
      "Discarded mm\n",
      "Abort: Score decreased\n",
      "Discarded hectares\n",
      "Finished\n"
     ]
    }
   ],
   "source": [
    "directory = os.fsencode(\"data\")\n",
    "directory_name = directory.decode(\"utf-8\")\n",
    "\n",
    "#Parameter\n",
    "#Minimum number of occurrences of one token to treat as a possible unit\n",
    "min_count = 100\n",
    "#Only for manual units: Minimum number to treat as possible for evaluation\n",
    "min_count_manual = 100\n",
    "\n",
    "#Minimum R^2 of first regression model to treat a token as a possible unit\n",
    "min_r2 = 0.5\n",
    "\n",
    "#Minimum R^2 of final regression model to treat a token as an actual unit\n",
    "min_final_r2 = 0.85\n",
    "\n",
    "#Minimum Number of Instances to keep\n",
    "min_instances = 15\n",
    "\n",
    "\n",
    "#Parameter\n",
    "#Write new findings to unit_conversion_dict?\n",
    "insert_ground_truth = True\n",
    "#Overwrite already existing findings in unit_conversion_dict when new R^2 is higher?\n",
    "overwrite_ground_truth = True\n",
    "#Always overwrite already existing findings in unit_conversion_dict? -> Set to False usually!\n",
    "overwrite_ground_truth_hard = False\n",
    "\n",
    "\n",
    "for file in os.listdir(directory):\n",
    "        \n",
    "    file_name = os.fsdecode(file)\n",
    "    if not file_name.endswith(\".csv\"):\n",
    "        continue\n",
    "    \n",
    "    try:\n",
    "        to_unit = unit_dict['<' + long_name(file_name[:-4]) + '>']\n",
    "        if to_unit is None:\n",
    "            continue\n",
    "    except KeyError:\n",
    "        continue\n",
    "    \n",
    "    print('--- ' + file_name + '---')\n",
    "         \n",
    "    try:\n",
    "        dtypes = load_object('data_info/' + file_name[:-4] + '_dtypes')\n",
    "    except FileNotFoundError:\n",
    "        print('WARNING! No dtype information available for ' + file_name + '!')\n",
    "        dtypes = None\n",
    "            \n",
    "    data = pd.read_csv(directory_name + \"/\" + file_name,\n",
    "                       encoding = \"utf-8\",\n",
    "                       dtype = dtypes,\n",
    "                       sep = ',')\n",
    "\n",
    "    \n",
    "    \n",
    "    \n",
    "    lines = data.shape[0]\n",
    "    \n",
    "    group = data.groupby('InfoTokenAfter').count().sort_values('IntegersInAbstract', ascending=False)['IntegersInAbstract']\n",
    "    \n",
    "    #print(type(group))\n",
    "    #print(group)\n",
    "    \n",
    "    for token, count in group.iteritems():\n",
    "        \n",
    "        if token == to_unit:\n",
    "            continue\n",
    "            \n",
    "        try:\n",
    "             if unit_conversion_dict[(token, to_unit, False)] == False: #No meaningful formula\n",
    "                    print(token + ' has declared to be no unit and will be excluded.')\n",
    "                    continue\n",
    "        except KeyError:\n",
    "            pass\n",
    "        \n",
    "        if count >= min_count_manual and count < min_count:\n",
    "            print(token + \" is candidate\")\n",
    "            unit_conversion_dict[(token, to_unit, False)] = 'undefined'\n",
    "            \n",
    "        \n",
    "        #if count / lines < min_occurrence_ratio:\n",
    "        if count < min_count:\n",
    "            break\n",
    "        \n",
    "        data_curr = data[data['InfoTokenAfter'] == token]\n",
    "        \n",
    "        #print(count)\n",
    "        \n",
    "        reg = LinearRegression(fit_intercept=False)\n",
    "        reg.fit(data_curr['InfoAbstractNumber'].values.reshape(-1, 1), data_curr['InfoFactNumber'])\n",
    "        score = reg.score(data_curr['InfoAbstractNumber'].values.reshape(-1, 1), data_curr['InfoFactNumber'])\n",
    "        \n",
    "        if score >= min_r2:\n",
    "            \n",
    "            x_values = pd.to_numeric(data_curr['InfoAbstractNumber']).values\n",
    "            y_values_true = pd.to_numeric(data_curr['InfoFactNumber']).values\n",
    "            y_values_predicted = reg.predict(data_curr['InfoAbstractNumber'].values.reshape(-1, 1))\n",
    "            \n",
    "            reg, score = improve_regression(reg, score, x_values, y_values_true)\n",
    "            \n",
    "            if score < min_final_r2:\n",
    "                print('Discarded ' + token)\n",
    "                continue\n",
    "            \n",
    "            if reg.coef_ >= 0.95 and reg.coef_ <= 1.05:\n",
    "                print('Discarded equivalent unit: ' + token)\n",
    "                continue\n",
    "            \n",
    "            print(token + ' -> ' + to_unit)\n",
    "            print(count)\n",
    "            print(score)\n",
    "            #print(reg.predict(np.array([1]).reshape(-1, 1)))\n",
    "            print(reg.coef_)\n",
    "            \n",
    "            \n",
    "            \n",
    "            \n",
    "            #print(x_values)\n",
    "            \n",
    "            #print(y_values_true)\n",
    "            #print(len(y_values_true))\n",
    "            #print(y_values_predicted)\n",
    "            #print(len(y_values_predicted))\n",
    "            \n",
    "            \n",
    "            mean = np.mean(x_values)\n",
    "            ssq = ((x_values - mean) ** 2).sum()\n",
    "            residual_ssq = ((y_values_true - y_values_predicted) ** 2).sum()\n",
    "            st_deviation = sqrt(residual_ssq / (count - 2))\n",
    "            t_value = stats.t.ppf(0.95, count)\n",
    "            \n",
    "            #print((y_values_true - y_values_predicted) ** 2 / st_deviation)\n",
    "            \n",
    "            #print(\"DATA:\")\n",
    "            #print('alpha = 0 (harcoded)')\n",
    "            #print('beta = ' + str(reg.coef_[0]))\n",
    "            #print('q = ' + str(t_value))\n",
    "            #print('n = ' + str(count))\n",
    "            #print('residuals_ssq = ' + str(residual_ssq))\n",
    "            #print('sigma^ = ' + str(st_deviation))\n",
    "            #print('x_ = ' + str(mean))\n",
    "            #print('SSQ = ' + str(ssq))\n",
    "            \n",
    "            #print('Interval for 500:')\n",
    "            \n",
    "            #lower_bound = reg.coef_[0] * 500 - t_value * st_deviation * sqrt(1 + 1 / count + (500 - mean) ** 2 / ssq)\n",
    "            #upper_bound = reg.coef_[0] * 500 + t_value * st_deviation * sqrt(1 + 1 / count + (500 - mean) ** 2 / ssq)\n",
    "            \n",
    "            #print('[' + str(lower_bound) + ',' + str(upper_bound) + ']')\n",
    "            \n",
    "            #if token != 'km²' and token != 'km2'  and token != 'ha':\n",
    "            #a = 1/0\n",
    "            print('---')\n",
    "            \n",
    "            if ( overwrite_ground_truth_hard ) \\\n",
    "            or ( insert_ground_truth and (token, to_unit, False) not in unit_conversion_dict ) \\\n",
    "            or ( overwrite_ground_truth and score > unit_conversion_dict[(token, to_unit, False)][1] ):\n",
    "                unit_conversion_dict[(token, to_unit, False)] = (reg.coef_[0], score)\n",
    "                unit_conversion_dict[(to_unit, token, False)] = (1 / reg.coef_[0], score)\n",
    "                \n",
    "            \n",
    "            #print(reg.intercept_)\n",
    "        \n",
    "        #reg.fit ([[0, 0], [1, 1], [2, 2]], [0, 1, 2])\n",
    "        \n",
    "if insert_ground_truth or overwrite_ground_truth or overwrite_ground_truth_hard:\n",
    "    save_object(unit_conversion_dict, 'unit_conversion_dict')\n",
    "print(\"Finished\")"
   ]
  },
  {
   "cell_type": "code",
   "execution_count": 330,
   "metadata": {},
   "outputs": [],
   "source": [
    "save_object(unit_conversion_dict, 'unit_conversion_dict')"
   ]
  },
  {
   "cell_type": "code",
   "execution_count": 15,
   "metadata": {},
   "outputs": [],
   "source": [
    "def refresh_unit_conversion_dict():\n",
    "    new_dict = dict()\n",
    "    save_object(new_dict, 'unit_conversion_dict')\n",
    "#refresh_unit_conversion_dict()"
   ]
  },
  {
   "cell_type": "code",
   "execution_count": 323,
   "metadata": {},
   "outputs": [],
   "source": [
    "def improve_regression(reg, score, x_values, y_values_true):\n",
    "    \n",
    "    y_values_predicted = reg.predict(x_values.reshape(-1, 1))\n",
    "    residuals = (y_values_true - y_values_predicted) ** 2\n",
    "    \n",
    "    rof = outlier_filter(residuals)\n",
    "    \n",
    "    reg_new = LinearRegression(fit_intercept=False)\n",
    "    x_values_new = x_values[rof]\n",
    "    y_values_true_new = y_values_true[rof]\n",
    "    \n",
    "    reg_new.fit(x_values_new.reshape(-1, 1), y_values_true_new)\n",
    "    score_new = reg_new.score(x_values_new.reshape(-1, 1), y_values_true_new)\n",
    "    \n",
    "    \n",
    "    if len(x_values_new) < min_instances:\n",
    "        print('Abort: Too less instances')\n",
    "    elif score_new + 0.05 <= score:\n",
    "        print('Abort: Score decreased')\n",
    "    elif reg.coef_ == reg_new.coef_:\n",
    "        print('Abort: Factor did not change any more')\n",
    "    elif score == 1.0:\n",
    "        print('Abort: Perfect fit')\n",
    "    \n",
    "    \n",
    "    if len(x_values_new) < min_instances or score_new + 0.05 <= score or reg.coef_ == reg_new.coef_ or score == 1.0:\n",
    "        return (reg, score)\n",
    "    \n",
    "    return improve_regression(reg_new, score_new, x_values_new, y_values_true_new)"
   ]
  },
  {
   "cell_type": "code",
   "execution_count": 126,
   "metadata": {},
   "outputs": [],
   "source": [
    "def outlier_filter(input_array):\n",
    "    \n",
    "    median = np.median(input_array)\n",
    "    iqr = stats.iqr(input_array)\n",
    "    \n",
    "    return (input_array >= median - 1.5 * iqr) & (input_array <= median + 1.5 * iqr)"
   ]
  },
  {
   "cell_type": "code",
   "execution_count": 248,
   "metadata": {},
   "outputs": [],
   "source": [
    "residuals = (y_values_true - y_values_predicted) ** 2"
   ]
  },
  {
   "cell_type": "code",
   "execution_count": 249,
   "metadata": {},
   "outputs": [
    {
     "data": {
      "text/plain": [
       "array([ True, False, False, False,  True,  True,  True,  True, False,\n",
       "        True, False, False,  True, False,  True,  True,  True,  True,\n",
       "       False, False,  True,  True, False,  True,  True, False,  True,\n",
       "        True,  True, False, False, False, False, False, False,  True,\n",
       "        True,  True, False, False, False,  True,  True, False, False,\n",
       "        True, False,  True,  True,  True,  True, False, False, False,\n",
       "        True, False,  True,  True,  True,  True,  True,  True,  True,\n",
       "       False, False,  True,  True, False, False,  True,  True,  True,\n",
       "        True,  True,  True,  True,  True,  True,  True,  True,  True,\n",
       "        True,  True,  True, False,  True, False,  True, False,  True,\n",
       "        True, False, False,  True,  True,  True,  True,  True,  True,\n",
       "       False, False,  True,  True,  True,  True,  True,  True, False,\n",
       "        True,  True,  True,  True,  True, False,  True, False, False,\n",
       "       False,  True,  True, False,  True,  True,  True,  True,  True,\n",
       "        True,  True, False, False,  True,  True, False, False,  True,\n",
       "        True, False])"
      ]
     },
     "execution_count": 249,
     "metadata": {},
     "output_type": "execute_result"
    }
   ],
   "source": [
    "outlier_filter(residuals)"
   ]
  },
  {
   "cell_type": "code",
   "execution_count": 250,
   "metadata": {},
   "outputs": [],
   "source": [
    "rmo = outlier_filter(residuals)"
   ]
  },
  {
   "cell_type": "code",
   "execution_count": 252,
   "metadata": {},
   "outputs": [
    {
     "data": {
      "text/plain": [
       "0.9997625102500736"
      ]
     },
     "execution_count": 252,
     "metadata": {},
     "output_type": "execute_result"
    }
   ],
   "source": [
    "reg = LinearRegression()\n",
    "reg.fit(x_values[rmo].reshape(-1, 1), y_values_true[rmo])\n",
    "reg.score(x_values[rmo].reshape(-1, 1), y_values_true[rmo])"
   ]
  },
  {
   "cell_type": "code",
   "execution_count": 253,
   "metadata": {},
   "outputs": [
    {
     "data": {
      "text/plain": [
       "array([1001361.48218921])"
      ]
     },
     "execution_count": 253,
     "metadata": {},
     "output_type": "execute_result"
    }
   ],
   "source": [
    "reg.coef_"
   ]
  },
  {
   "cell_type": "code",
   "execution_count": 254,
   "metadata": {},
   "outputs": [
    {
     "data": {
      "text/plain": [
       "-70467914.77292633"
      ]
     },
     "execution_count": 254,
     "metadata": {},
     "output_type": "execute_result"
    }
   ],
   "source": [
    "reg.intercept_"
   ]
  },
  {
   "cell_type": "code",
   "execution_count": 255,
   "metadata": {},
   "outputs": [],
   "source": [
    "y_values_predicted_rmo = reg.predict(x_values[rmo].reshape(-1, 1))\n",
    "residuals = (y_values_true[rmo] - y_values_predicted_rmo) ** 2"
   ]
  },
  {
   "cell_type": "code",
   "execution_count": 256,
   "metadata": {},
   "outputs": [
    {
     "data": {
      "text/plain": [
       "array([ True,  True,  True,  True,  True,  True,  True,  True,  True,\n",
       "        True,  True,  True,  True,  True,  True,  True,  True,  True,\n",
       "        True,  True,  True,  True,  True,  True,  True,  True,  True,\n",
       "        True,  True,  True,  True,  True,  True,  True,  True,  True,\n",
       "        True,  True,  True,  True, False,  True,  True,  True,  True,\n",
       "        True,  True,  True,  True,  True,  True,  True,  True,  True,\n",
       "        True,  True,  True,  True,  True,  True,  True,  True, False,\n",
       "        True, False,  True, False,  True,  True,  True,  True,  True,\n",
       "        True,  True,  True,  True,  True,  True,  True,  True,  True,\n",
       "        True,  True,  True,  True, False,  True,  True])"
      ]
     },
     "execution_count": 256,
     "metadata": {},
     "output_type": "execute_result"
    }
   ],
   "source": [
    "outlier_filter(residuals)"
   ]
  },
  {
   "cell_type": "code",
   "execution_count": 257,
   "metadata": {},
   "outputs": [],
   "source": [
    "rmob = outlier_filter(residuals)"
   ]
  },
  {
   "cell_type": "code",
   "execution_count": 258,
   "metadata": {},
   "outputs": [
    {
     "data": {
      "text/plain": [
       "0.9999984503069839"
      ]
     },
     "execution_count": 258,
     "metadata": {},
     "output_type": "execute_result"
    }
   ],
   "source": [
    "reg = LinearRegression()\n",
    "reg.fit(x_values[rmo][rmob].reshape(-1, 1), y_values_true[rmo][rmob])\n",
    "reg.score(x_values[rmo][rmob].reshape(-1, 1), y_values_true[rmo][rmob])"
   ]
  },
  {
   "cell_type": "code",
   "execution_count": 259,
   "metadata": {},
   "outputs": [
    {
     "data": {
      "text/plain": [
       "array([1000278.31790677])"
      ]
     },
     "execution_count": 259,
     "metadata": {},
     "output_type": "execute_result"
    }
   ],
   "source": [
    "reg.coef_"
   ]
  },
  {
   "cell_type": "code",
   "execution_count": 260,
   "metadata": {},
   "outputs": [
    {
     "data": {
      "text/plain": [
       "-12959909.116361618"
      ]
     },
     "execution_count": 260,
     "metadata": {},
     "output_type": "execute_result"
    }
   ],
   "source": [
    "reg.intercept_"
   ]
  },
  {
   "cell_type": "code",
   "execution_count": 261,
   "metadata": {},
   "outputs": [],
   "source": [
    "y_values_predicted_rmob = reg.predict(x_values[rmo][rmob].reshape(-1, 1))\n",
    "residuals = (y_values_true[rmo][rmob] - y_values_predicted_rmob) ** 2"
   ]
  },
  {
   "cell_type": "code",
   "execution_count": 262,
   "metadata": {},
   "outputs": [
    {
     "data": {
      "text/plain": [
       "array([ True,  True,  True,  True,  True, False, False,  True,  True,\n",
       "        True,  True, False,  True, False, False, False,  True,  True,\n",
       "        True, False,  True,  True,  True,  True,  True,  True,  True,\n",
       "        True, False, False,  True,  True,  True,  True,  True,  True,\n",
       "        True, False,  True,  True,  True,  True,  True,  True,  True,\n",
       "        True,  True,  True, False,  True,  True,  True,  True,  True,\n",
       "        True,  True,  True,  True,  True,  True,  True, False, False,\n",
       "        True,  True,  True,  True,  True,  True,  True,  True,  True,\n",
       "        True,  True,  True,  True,  True,  True,  True,  True,  True,\n",
       "       False,  True])"
      ]
     },
     "execution_count": 262,
     "metadata": {},
     "output_type": "execute_result"
    }
   ],
   "source": [
    "outlier_filter(residuals)"
   ]
  },
  {
   "cell_type": "code",
   "execution_count": 263,
   "metadata": {},
   "outputs": [],
   "source": [
    "rmoc = outlier_filter(residuals)"
   ]
  },
  {
   "cell_type": "code",
   "execution_count": 265,
   "metadata": {},
   "outputs": [
    {
     "data": {
      "text/plain": [
       "0.999999950126452"
      ]
     },
     "execution_count": 265,
     "metadata": {},
     "output_type": "execute_result"
    }
   ],
   "source": [
    "reg = LinearRegression()\n",
    "reg.fit(x_values[rmo][rmob][rmoc].reshape(-1, 1), y_values_true[rmo][rmob][rmoc])\n",
    "reg.score(x_values[rmo][rmob][rmoc].reshape(-1, 1), y_values_true[rmo][rmob][rmoc])"
   ]
  },
  {
   "cell_type": "code",
   "execution_count": 266,
   "metadata": {},
   "outputs": [
    {
     "data": {
      "text/plain": [
       "array([1000049.2451018])"
      ]
     },
     "execution_count": 266,
     "metadata": {},
     "output_type": "execute_result"
    }
   ],
   "source": [
    "reg.coef_"
   ]
  },
  {
   "cell_type": "code",
   "execution_count": 267,
   "metadata": {},
   "outputs": [
    {
     "data": {
      "text/plain": [
       "-2407806.4505233765"
      ]
     },
     "execution_count": 267,
     "metadata": {},
     "output_type": "execute_result"
    }
   ],
   "source": [
    "reg.intercept_"
   ]
  },
  {
   "cell_type": "code",
   "execution_count": 268,
   "metadata": {},
   "outputs": [],
   "source": [
    "y_values_predicted_rmoc = reg.predict(x_values[rmo][rmob][rmoc].reshape(-1, 1))\n",
    "residuals = (y_values_true[rmo][rmob][rmoc] - y_values_predicted_rmoc) ** 2"
   ]
  },
  {
   "cell_type": "code",
   "execution_count": 269,
   "metadata": {},
   "outputs": [
    {
     "data": {
      "text/plain": [
       "array([ True,  True,  True,  True,  True, False,  True,  True,  True,\n",
       "        True,  True,  True,  True,  True,  True,  True, False,  True,\n",
       "        True,  True,  True,  True, False,  True,  True,  True,  True,\n",
       "        True,  True,  True, False,  True,  True,  True,  True,  True,\n",
       "        True,  True, False,  True,  True,  True,  True,  True, False,\n",
       "        True,  True,  True,  True,  True,  True,  True,  True,  True,\n",
       "        True,  True,  True, False,  True,  True,  True,  True,  True,\n",
       "        True,  True,  True,  True,  True,  True])"
      ]
     },
     "execution_count": 269,
     "metadata": {},
     "output_type": "execute_result"
    }
   ],
   "source": [
    "outlier_filter(residuals)"
   ]
  },
  {
   "cell_type": "code",
   "execution_count": 270,
   "metadata": {},
   "outputs": [],
   "source": [
    "rmod = outlier_filter(residuals)"
   ]
  },
  {
   "cell_type": "code",
   "execution_count": 271,
   "metadata": {},
   "outputs": [
    {
     "data": {
      "text/plain": [
       "0.9999999985557569"
      ]
     },
     "execution_count": 271,
     "metadata": {},
     "output_type": "execute_result"
    }
   ],
   "source": [
    "reg = LinearRegression()\n",
    "reg.fit(x_values[rmo][rmob][rmoc][rmod].reshape(-1, 1), y_values_true[rmo][rmob][rmoc][rmod])\n",
    "reg.score(x_values[rmo][rmob][rmoc][rmod].reshape(-1, 1), y_values_true[rmo][rmob][rmoc][rmod])"
   ]
  },
  {
   "cell_type": "code",
   "execution_count": 272,
   "metadata": {
    "scrolled": true
   },
   "outputs": [
    {
     "data": {
      "text/plain": [
       "array([1000008.67338711])"
      ]
     },
     "execution_count": 272,
     "metadata": {},
     "output_type": "execute_result"
    }
   ],
   "source": [
    "reg.coef_"
   ]
  },
  {
   "cell_type": "code",
   "execution_count": 273,
   "metadata": {},
   "outputs": [
    {
     "data": {
      "text/plain": [
       "-405039.3541069031"
      ]
     },
     "execution_count": 273,
     "metadata": {},
     "output_type": "execute_result"
    }
   ],
   "source": [
    "reg.intercept_"
   ]
  },
  {
   "cell_type": "code",
   "execution_count": 274,
   "metadata": {},
   "outputs": [],
   "source": [
    "y_values_predicted_rmod = reg.predict(x_values[rmo][rmob][rmoc][rmod].reshape(-1, 1))\n",
    "residuals = (y_values_true[rmo][rmob][rmoc][rmod] - y_values_predicted_rmod) ** 2"
   ]
  },
  {
   "cell_type": "code",
   "execution_count": 275,
   "metadata": {},
   "outputs": [
    {
     "data": {
      "text/plain": [
       "array([ True, False,  True,  True,  True, False,  True, False,  True,\n",
       "       False, False,  True, False,  True,  True,  True,  True,  True,\n",
       "        True,  True,  True,  True,  True,  True,  True,  True,  True,\n",
       "        True,  True,  True,  True,  True,  True,  True,  True,  True,\n",
       "        True,  True,  True,  True,  True,  True,  True,  True,  True,\n",
       "        True,  True,  True,  True,  True,  True,  True, False,  True,\n",
       "        True,  True,  True,  True,  True,  True,  True,  True])"
      ]
     },
     "execution_count": 275,
     "metadata": {},
     "output_type": "execute_result"
    }
   ],
   "source": [
    "outlier_filter(residuals)"
   ]
  },
  {
   "cell_type": "code",
   "execution_count": 276,
   "metadata": {},
   "outputs": [],
   "source": [
    "rmoe = outlier_filter(residuals)"
   ]
  },
  {
   "cell_type": "code",
   "execution_count": 277,
   "metadata": {},
   "outputs": [
    {
     "data": {
      "text/plain": [
       "0.9999999999993812"
      ]
     },
     "execution_count": 277,
     "metadata": {},
     "output_type": "execute_result"
    }
   ],
   "source": [
    "reg = LinearRegression()\n",
    "reg.fit(x_values[rmo][rmob][rmoc][rmod][rmoe].reshape(-1, 1), y_values_true[rmo][rmob][rmoc][rmod][rmoe])\n",
    "reg.score(x_values[rmo][rmob][rmoc][rmod][rmoe].reshape(-1, 1), y_values_true[rmo][rmob][rmoc][rmod][rmoe])"
   ]
  },
  {
   "cell_type": "code",
   "execution_count": 278,
   "metadata": {},
   "outputs": [
    {
     "data": {
      "text/plain": [
       "array([1000000.15342646])"
      ]
     },
     "execution_count": 278,
     "metadata": {},
     "output_type": "execute_result"
    }
   ],
   "source": [
    "reg.coef_"
   ]
  },
  {
   "cell_type": "code",
   "execution_count": 279,
   "metadata": {},
   "outputs": [
    {
     "data": {
      "text/plain": [
       "-7168.901363372803"
      ]
     },
     "execution_count": 279,
     "metadata": {},
     "output_type": "execute_result"
    }
   ],
   "source": [
    "reg.intercept_"
   ]
  },
  {
   "cell_type": "code",
   "execution_count": 280,
   "metadata": {},
   "outputs": [],
   "source": [
    "y_values_predicted_rmoe = reg.predict(x_values[rmo][rmob][rmoc][rmod][rmoe].reshape(-1, 1))\n",
    "residuals = (y_values_true[rmo][rmob][rmoc][rmod][rmoe] - y_values_predicted_rmoe) ** 2"
   ]
  },
  {
   "cell_type": "code",
   "execution_count": 281,
   "metadata": {},
   "outputs": [
    {
     "data": {
      "text/plain": [
       "array([6.86124507e+09, 3.94786842e+09, 5.13730426e+07, 5.13778593e+07,\n",
       "       5.30533219e+09, 4.29705885e+07, 3.56632091e+07, 5.11661588e+07,\n",
       "       4.95732246e+07, 4.01189806e+07, 4.44835510e+04, 2.41956005e+07,\n",
       "       4.96894626e+07, 5.13116985e+07, 9.06301268e+06, 1.21747596e+06,\n",
       "       2.59568980e+05, 3.81187284e+06, 5.13678082e+07, 5.16053078e+07,\n",
       "       7.32238754e+05, 8.68609962e+06, 3.11074881e+07, 4.76537110e+07,\n",
       "       2.97617676e+07, 5.14173655e+06, 2.09556583e+07, 5.12966430e+07,\n",
       "       1.79996424e+07, 3.71480030e+07, 1.49651009e+06, 7.28396093e+05,\n",
       "       1.03783552e+07, 2.88943454e+07, 3.13303736e+07, 3.75756421e+07,\n",
       "       3.02880408e+07, 2.80153840e+07, 5.13676323e+07, 1.54587095e+07,\n",
       "       4.54182627e+07, 4.71930497e+07, 3.26440593e+07, 1.96746274e+07,\n",
       "       1.06279619e+07, 3.89938671e+07, 3.10561659e+07, 3.55679835e+07,\n",
       "       3.30379580e+07, 3.21817163e+07, 2.59859763e+07, 4.75372781e+07,\n",
       "       3.17491317e+07, 4.84663201e+07, 3.47926597e+07])"
      ]
     },
     "execution_count": 281,
     "metadata": {},
     "output_type": "execute_result"
    }
   ],
   "source": [
    "residuals"
   ]
  },
  {
   "cell_type": "code",
   "execution_count": 282,
   "metadata": {},
   "outputs": [],
   "source": [
    "rmof = outlier_filter(residuals)"
   ]
  },
  {
   "cell_type": "code",
   "execution_count": 283,
   "metadata": {},
   "outputs": [
    {
     "data": {
      "text/plain": [
       "1.0"
      ]
     },
     "execution_count": 283,
     "metadata": {},
     "output_type": "execute_result"
    }
   ],
   "source": [
    "reg = LinearRegression()\n",
    "reg.fit(x_values[rmo][rmob][rmoc][rmod][rmoe][rmof].reshape(-1, 1), y_values_true[rmo][rmob][rmoc][rmod][rmoe][rmof])\n",
    "reg.score(x_values[rmo][rmob][rmoc][rmod][rmoe][rmof].reshape(-1, 1), y_values_true[rmo][rmob][rmoc][rmod][rmoe][rmof])"
   ]
  },
  {
   "cell_type": "code",
   "execution_count": 284,
   "metadata": {},
   "outputs": [
    {
     "data": {
      "text/plain": [
       "array([1000000.])"
      ]
     },
     "execution_count": 284,
     "metadata": {},
     "output_type": "execute_result"
    }
   ],
   "source": [
    "reg.coef_"
   ]
  },
  {
   "cell_type": "code",
   "execution_count": 285,
   "metadata": {},
   "outputs": [
    {
     "data": {
      "text/plain": [
       "0.0"
      ]
     },
     "execution_count": 285,
     "metadata": {},
     "output_type": "execute_result"
    }
   ],
   "source": [
    "reg.intercept_"
   ]
  },
  {
   "cell_type": "code",
   "execution_count": 287,
   "metadata": {},
   "outputs": [],
   "source": [
    "y_values_predicted_rmof = reg.predict(x_values[rmo][rmob][rmoc][rmod][rmoe][rmof].reshape(-1, 1))\n",
    "residuals = (y_values_true[rmo][rmob][rmoc][rmod][rmoe][rmof] - y_values_predicted_rmof) ** 2"
   ]
  },
  {
   "cell_type": "code",
   "execution_count": 288,
   "metadata": {},
   "outputs": [],
   "source": [
    "rmog = outlier_filter(residuals)"
   ]
  },
  {
   "cell_type": "code",
   "execution_count": 289,
   "metadata": {},
   "outputs": [
    {
     "data": {
      "text/plain": [
       "1.0"
      ]
     },
     "execution_count": 289,
     "metadata": {},
     "output_type": "execute_result"
    }
   ],
   "source": [
    "reg = LinearRegression()\n",
    "reg.fit(x_values[rmo][rmob][rmoc][rmod][rmoe][rmof][rmog].reshape(-1, 1), y_values_true[rmo][rmob][rmoc][rmod][rmoe][rmof][rmog])\n",
    "reg.score(x_values[rmo][rmob][rmoc][rmod][rmoe][rmof][rmog].reshape(-1, 1), y_values_true[rmo][rmob][rmoc][rmod][rmoe][rmof][rmog])"
   ]
  },
  {
   "cell_type": "code",
   "execution_count": 290,
   "metadata": {},
   "outputs": [
    {
     "data": {
      "text/plain": [
       "array([1000000.])"
      ]
     },
     "execution_count": 290,
     "metadata": {},
     "output_type": "execute_result"
    }
   ],
   "source": [
    "reg.coef_"
   ]
  },
  {
   "cell_type": "code",
   "execution_count": 291,
   "metadata": {},
   "outputs": [
    {
     "data": {
      "text/plain": [
       "0.0"
      ]
     },
     "execution_count": 291,
     "metadata": {},
     "output_type": "execute_result"
    }
   ],
   "source": [
    "reg.intercept_"
   ]
  },
  {
   "cell_type": "code",
   "execution_count": 206,
   "metadata": {},
   "outputs": [],
   "source": [
    "y_values_predicted_rmog = reg.predict(x_values[rmo][rmob][rmoc][rmod][rmoe][rmof][rmog].reshape(-1, 1))\n",
    "residuals = (y_values_true[rmo][rmob][rmoc][rmod][rmoe][rmof][rmog] - y_values_predicted_rmog) ** 2"
   ]
  },
  {
   "cell_type": "code",
   "execution_count": 207,
   "metadata": {},
   "outputs": [
    {
     "data": {
      "text/plain": [
       "array([ True,  True,  True, False, False,  True,  True,  True, False,\n",
       "        True,  True,  True,  True,  True, False,  True,  True,  True])"
      ]
     },
     "execution_count": 207,
     "metadata": {},
     "output_type": "execute_result"
    }
   ],
   "source": [
    "outlier_filter(residuals)"
   ]
  },
  {
   "cell_type": "code",
   "execution_count": 208,
   "metadata": {},
   "outputs": [],
   "source": [
    "rmoh = outlier_filter(residuals)"
   ]
  },
  {
   "cell_type": "code",
   "execution_count": 209,
   "metadata": {},
   "outputs": [
    {
     "data": {
      "text/plain": [
       "1.0"
      ]
     },
     "execution_count": 209,
     "metadata": {},
     "output_type": "execute_result"
    }
   ],
   "source": [
    "reg = LinearRegression(fit_intercept=False)\n",
    "reg.fit(x_values[rmo][rmob][rmoc][rmod][rmoe][rmof][rmog][rmoh].reshape(-1, 1), y_values_true[rmo][rmob][rmoc][rmod][rmoe][rmof][rmog][rmoh])\n",
    "reg.score(x_values[rmo][rmob][rmoc][rmod][rmoe][rmof][rmog][rmoh].reshape(-1, 1), y_values_true[rmo][rmob][rmoc][rmod][rmoe][rmof][rmog][rmoh])"
   ]
  },
  {
   "cell_type": "code",
   "execution_count": 210,
   "metadata": {},
   "outputs": [
    {
     "data": {
      "text/plain": [
       "array([1000000.])"
      ]
     },
     "execution_count": 210,
     "metadata": {},
     "output_type": "execute_result"
    }
   ],
   "source": [
    "reg.coef_"
   ]
  },
  {
   "cell_type": "code",
   "execution_count": null,
   "metadata": {},
   "outputs": [],
   "source": []
  },
  {
   "cell_type": "code",
   "execution_count": 44,
   "metadata": {},
   "outputs": [],
   "source": [
    "abweicher = (y_values_true - y_values_predicted) ** 2 / st_deviation"
   ]
  },
  {
   "cell_type": "code",
   "execution_count": 92,
   "metadata": {},
   "outputs": [],
   "source": [
    "residuals = (y_values_true - y_values_predicted) ** 2"
   ]
  },
  {
   "cell_type": "code",
   "execution_count": 121,
   "metadata": {},
   "outputs": [],
   "source": [
    "rm = residuals <= residuals.mean()"
   ]
  },
  {
   "cell_type": "code",
   "execution_count": 122,
   "metadata": {},
   "outputs": [
    {
     "data": {
      "text/plain": [
       "LinearRegression(copy_X=True, fit_intercept=False, n_jobs=None,\n",
       "         normalize=False)"
      ]
     },
     "execution_count": 122,
     "metadata": {},
     "output_type": "execute_result"
    }
   ],
   "source": [
    "reg = LinearRegression(fit_intercept=False)\n",
    "reg.fit(x_values[rm].reshape(-1, 1), y_values_true[rm])"
   ]
  },
  {
   "cell_type": "code",
   "execution_count": 123,
   "metadata": {},
   "outputs": [
    {
     "data": {
      "text/plain": [
       "array([999740.34823907])"
      ]
     },
     "execution_count": 123,
     "metadata": {},
     "output_type": "execute_result"
    }
   ],
   "source": [
    "reg.coef_"
   ]
  },
  {
   "cell_type": "code",
   "execution_count": 91,
   "metadata": {},
   "outputs": [
    {
     "name": "stdout",
     "output_type": "stream",
     "text": [
      "9910000 - 9958739.443258105\n",
      "1 - 208038066.96966183\n",
      "1 - 195290880.48229143\n",
      "1 - 707867199.6267861\n",
      "14490000 - 14340584.798291672\n",
      "6230000 - 6274005.849252606\n",
      "9140000 - 9102287.851137908\n",
      "6950000 - 6921323.913064383\n",
      "1 - 189216049.421904\n",
      "1 - 39834957.77303242\n",
      "1 - 1559140247.2364888\n",
      "1 - 340987238.5371575\n",
      "1 - 119992851.55181691\n",
      "1 - 155246789.18095058\n",
      "1 - 8644185.836748036\n",
      "1 - 2967704.3540909155\n",
      "43020000 - 42922167.00044244\n",
      "1 - 1852325.5364460077\n",
      "1 - 4993272121.891841\n",
      "62320000 - 6206286421.038451\n",
      "1 - 52781319.049267955\n",
      "4000000000 - 3983495777.303242\n",
      "1 - 2416986062.878742\n",
      "1988000000 - 1966851040.0434759\n",
      "1 - 38739496.434274025\n",
      "1 - 531288790.55837667\n",
      "1 - 98223047.12885469\n",
      "1 - 1732820.6631269103\n",
      "1 - 4491391.488909406\n",
      "1 - 7682141730.310973\n",
      "4538000000 - 4320101170.485366\n",
      "1 - 178261436.0343201\n",
      "8310000 - 239009746.63819453\n",
      "1 - 3634939896.7892084\n",
      "7050000 - 702091130.7496964\n",
      "7802000000 - 7769808513.629973\n",
      "1 - 49793697.216290526\n",
      "1 - 3535352.502356627\n",
      "1 - 433185248.30284107\n",
      "1 - 29273415831.273903\n",
      "1 - 9412203822.6121\n",
      "103300000 - 102873778.44885622\n",
      "834770000 - 831325692.5048568\n",
      "1 - 1692965787.8749914\n",
      "11000000000 - 10954613.387583915\n",
      "1 - 19319954.51992072\n",
      "950000000000 - 946080247109.52\n",
      "5442000000 - 5419546005.021061\n",
      "48100000000 - 47901536722.07149\n",
      "14665000000 - 14604491393.538012\n",
      "781000000 - 777777550.518458\n",
      "6000000000 - 6971117610.280674\n",
      "1 - 849480474.5099164\n",
      "1 - 528709477.0425728\n",
      "1 - 93373141.019988\n",
      "1 - 5927441716.627224\n",
      "1 - 108550259.93151335\n",
      "37040000 - 36887170.89782802\n",
      "1 - 16252662.771397227\n",
      "66347000000 - 66073248584.184555\n",
      "53917000000 - 53694535456.21473\n",
      "50046000000 - 49839507417.729515\n",
      "34000000000 - 33859714107.077557\n",
      "109865000000 - 109411690893.35518\n",
      "1 - 706074626.5269997\n",
      "11520000 - 11472467.838633336\n",
      "17350000 - 9958739.443258105\n",
      "1 - 12657766965.909359\n",
      "81456000000 - 80098141342.12494\n",
      "93547000000 - 93161019869.8466\n",
      "41148000000 - 40978221061.118454\n",
      "1 - 2031891567.3473945\n",
      "1 - 22676049.712298706\n",
      "27516000000 - 27402467452.069004\n",
      "10373000000 - 10330200424.491632\n",
      "1732000000 - 1724853671.5723038\n",
      "11168000000 - 11121920210.230652\n",
      "31946000000 - 31814189025.432343\n",
      "76562000000 - 76246100925.4727\n",
      "43890000 - 43708907.41645982\n",
      "1 - 38839083.82870661\n",
      "1 - 20116653.675381374\n",
      "19073000000 - 18994303740.126183\n",
      "7000000000 - 6971117610.280674\n",
      "1 - 340250291.81835645\n",
      "38752000000 - 38592107090.51381\n",
      "59210000000 - 44814327494.661476\n",
      "52288000000 - 52072256800.90798\n",
      "6785000000 - 6999997954.666122\n",
      "25728000000 - 25621844839.614452\n",
      "5965000000 - 5939392203.959134\n",
      "30594000000 - 30655987628.181427\n",
      "24600000000 - 12176550717.271685\n",
      "11690000000 - 11641766409.168726\n",
      "10243000000 - 10200736811.729277\n",
      "6772000000 - 6744058350.974389\n",
      "10855000000 - 10810211665.656673\n",
      "12227000000 - 12176550717.271685\n",
      "22000000 - 2290510.071949364\n",
      "12500000000 - 11950487.331909727\n",
      "12500000000 - 497936972.1629053\n",
      "22000000 - 13444298.248398442\n",
      "22000000 - 2589272.2552471072\n",
      "22000000 - 3485558.805140337\n",
      "1 - 2096912177.1724265\n",
      "11600000 - 11552137.754179401\n",
      "21099000000 - 21011944351.330276\n",
      "43955000000 - 31315256179.32511\n",
      "2800000000 - 2788447044.1122694\n",
      "1950000000 - 1941954191.4353306\n",
      "9486000000 - 9446860235.87464\n",
      "17815000000 - 17741494318.164314\n",
      "25477000000 - 25371880479.588676\n",
      "6457000000 - 5813912086.974082\n",
      "11298000000 - 11264330184.269243\n",
      "17087000000 - 16133157898.07813\n",
      "1 - 7894292756.6707\n",
      "4902000000 - 17925730997.86459\n",
      "6025000000 - 6000140514.563008\n",
      "1 - 1593398.310921297\n",
      "9764000000 - 10130029761.682144\n",
      "10403000000 - 10360076642.821407\n",
      "7854000000 - 7821593958.734916\n",
      "9262000000 - 9223784472.345657\n",
      "83700000000 - 83354649140.07034\n",
      "13500000000 - 13444298248.398441\n",
      "1787000000 - 1779626738.5102234\n",
      "10000000000 - 9958739443.258106\n",
      "40190000 - 400341325.6189758\n",
      "1 - 27652431812.09478\n",
      "1350000000 - 1344429824.8398442\n",
      "2301000000 - 2190922677.516783\n",
      "1 - 29265747601.902596\n",
      "1 - 43472885291.65461\n",
      "1 - 78674041.60173903\n",
      "8280000000 - 8245836259.017712\n",
      "98705000000 - 100289485563.33075\n"
     ]
    }
   ],
   "source": [
    "for i, elem in enumerate(y_values_true):\n",
    "    print(str(elem) + \" - \" + str(y_values_predicted[i]))\n",
    "    #print(str(i) + \": \" + str(elem / y_values_predicted[i]))"
   ]
  },
  {
   "cell_type": "code",
   "execution_count": 93,
   "metadata": {},
   "outputs": [
    {
     "data": {
      "text/plain": [
       "array([2.37553333e+09, 4.32798369e+16, 3.81385276e+16, 5.01075971e+17,\n",
       "       2.23249025e+10, 1.93651477e+09, 1.42220617e+09, 8.22317962e+08,\n",
       "       3.58027130e+16, 1.58682378e+15, 2.43091831e+18, 1.16272296e+17,\n",
       "       1.43982842e+16, 2.41015652e+16, 7.47219315e+13, 8.80726320e+12,\n",
       "       9.57129580e+09, 3.43110619e+12, 2.49327665e+19, 3.77483234e+19,\n",
       "       2.78586754e+15, 2.72389367e+14, 5.84182162e+18, 4.47278507e+14,\n",
       "       1.50074851e+15, 2.82267778e+17, 9.64776679e+15, 3.00266398e+12,\n",
       "       2.01725885e+13, 5.90153015e+19, 4.74798999e+16, 3.17771392e+16,\n",
       "       5.32223731e+16, 1.32127880e+19, 4.83082173e+17, 1.03629179e+15,\n",
       "       2.47941218e+15, 1.24987102e+13, 1.87649458e+17, 8.56932874e+20,\n",
       "       8.85895808e+19, 1.81664811e+11, 1.18632541e+13, 2.86613316e+18,\n",
       "       1.20759119e+20, 3.73260604e+14, 1.53644627e+19, 5.04181891e+14,\n",
       "       3.93876727e+16, 3.66129146e+15, 1.03841807e+13, 9.43069413e+17,\n",
       "       7.21617075e+17, 2.79533710e+17, 8.71854328e+15, 3.51345653e+19,\n",
       "       1.17831587e+16, 2.33567345e+10, 2.64149015e+14, 7.49398377e+16,\n",
       "       4.94904732e+16, 4.26391865e+16, 1.96801318e+16, 2.05489146e+17,\n",
       "       4.98541377e+17, 2.25930636e+09, 5.46307326e+13, 1.60219065e+20,\n",
       "       1.84378013e+18, 1.48980661e+17, 2.88248881e+16, 4.12858334e+18,\n",
       "       5.14203185e+14, 1.28896394e+16, 1.83180366e+15, 5.10700100e+13,\n",
       "       2.12334703e+15, 1.73741330e+16, 9.97922253e+16, 3.27945238e+10,\n",
       "       1.50847435e+15, 4.04679715e+14, 6.19310132e+15, 8.34192436e+14,\n",
       "       1.15770260e+17, 2.55657425e+16, 2.07235387e+20, 4.65451280e+16,\n",
       "       4.62241205e+16, 1.12689181e+16, 6.55759218e+14, 3.84246605e+15,\n",
       "       1.54342092e+20, 2.32647928e+15, 1.78617708e+15, 7.80735750e+14,\n",
       "       2.00599489e+15, 2.54513013e+15, 3.88463993e+14, 1.55951381e+20,\n",
       "       1.44049517e+20, 7.32000325e+13, 3.76776352e+14, 3.42784533e+14,\n",
       "       4.39704067e+18, 2.29079457e+09, 7.57868597e+15, 1.59763124e+20,\n",
       "       1.33470790e+14, 6.47350355e+13, 1.53192114e+15, 5.40308526e+15,\n",
       "       1.10501136e+16, 4.13562064e+17, 1.13365649e+15, 9.09814755e+17,\n",
       "       6.23198581e+19, 1.69617569e+20, 6.17994016e+14, 2.53891499e+12,\n",
       "       1.33977786e+17, 1.84241459e+15, 1.05015151e+15, 1.46042655e+15,\n",
       "       1.19267216e+17, 3.10268513e+15, 5.43649850e+13, 1.70243354e+15,\n",
       "       1.29708977e+17, 7.64656985e+20, 3.10268513e+13, 1.21170169e+16,\n",
       "       8.56483983e+20, 1.88989176e+21, 6.18960466e+15, 1.16716120e+15,\n",
       "       2.51059450e+18])"
      ]
     },
     "execution_count": 93,
     "metadata": {},
     "output_type": "execute_result"
    }
   ],
   "source": [
    "residuals"
   ]
  },
  {
   "cell_type": "code",
   "execution_count": 94,
   "metadata": {},
   "outputs": [
    {
     "name": "stdout",
     "output_type": "stream",
     "text": [
      "[ True False False False  True  True  True  True False False False False\n",
      " False False False  True  True  True False False False False False False\n",
      " False False False  True  True False False False False False False False\n",
      " False  True False False False  True  True False False False False False\n",
      " False False  True False False False False False False  True False False\n",
      " False False False False False  True False False False False False False\n",
      " False False False False False False False  True False False False False\n",
      " False False False False False False False False False False False False\n",
      " False False False False False False False False False  True False False\n",
      " False False False False False False False False False False False  True\n",
      " False False False False False False False False False False  True False\n",
      " False False False False False]\n",
      "20\n"
     ]
    }
   ],
   "source": [
    "bool_arr = abweicher <= 5000\n",
    "print(bool_arr)\n",
    "print(len(bool_arr[bool_arr == True]))"
   ]
  },
  {
   "cell_type": "code",
   "execution_count": 115,
   "metadata": {},
   "outputs": [
    {
     "name": "stdout",
     "output_type": "stream",
     "text": [
      "[ True False False False  True  True  True  True False False False False\n",
      " False False False False  True False False False False  True False  True\n",
      " False False False False False False False False False False False  True\n",
      " False False False False False  True  True False False False False  True\n",
      "  True  True  True False False False False False False  True False  True\n",
      "  True  True  True False False  True False False False False  True False\n",
      " False  True  True  True  True  True  True  True False False  True  True\n",
      " False  True False  True False  True  True  True False  True  True  True\n",
      "  True  True False False False False False False False  True  True False\n",
      "  True  True  True  True  True False  True False False False  True False\n",
      " False  True  True  True False  True  True  True False False  True False\n",
      " False False False  True False]\n",
      "58\n"
     ]
    }
   ],
   "source": [
    "awt = abweicher/x_values <= 200\n",
    "print(awt)\n",
    "print(len(awt[awt == True]))"
   ]
  },
  {
   "cell_type": "code",
   "execution_count": null,
   "metadata": {},
   "outputs": [],
   "source": []
  },
  {
   "cell_type": "code",
   "execution_count": 103,
   "metadata": {},
   "outputs": [
    {
     "name": "stdout",
     "output_type": "stream",
     "text": [
      "9910000 - 9958739.443258105\n",
      "14490000 - 14340584.798291672\n",
      "6230000 - 6274005.849252606\n",
      "9140000 - 9102287.851137908\n",
      "6950000 - 6921323.913064383\n",
      "43020000 - 42922167.00044244\n",
      "4000000000 - 3983495777.303242\n",
      "1988000000 - 1966851040.0434759\n",
      "4538000000 - 4320101170.485366\n",
      "8310000 - 239009746.63819453\n",
      "7802000000 - 7769808513.629973\n",
      "103300000 - 102873778.44885622\n",
      "834770000 - 831325692.5048568\n",
      "950000000000 - 946080247109.52\n",
      "5442000000 - 5419546005.021061\n",
      "48100000000 - 47901536722.07149\n",
      "14665000000 - 14604491393.538012\n",
      "781000000 - 777777550.518458\n",
      "6000000000 - 6971117610.280674\n",
      "37040000 - 36887170.89782802\n",
      "66347000000 - 66073248584.184555\n",
      "53917000000 - 53694535456.21473\n",
      "50046000000 - 49839507417.729515\n",
      "34000000000 - 33859714107.077557\n",
      "109865000000 - 109411690893.35518\n",
      "11520000 - 11472467.838633336\n",
      "17350000 - 9958739.443258105\n",
      "81456000000 - 80098141342.12494\n",
      "93547000000 - 93161019869.8466\n",
      "41148000000 - 40978221061.118454\n",
      "27516000000 - 27402467452.069004\n",
      "10373000000 - 10330200424.491632\n",
      "1732000000 - 1724853671.5723038\n",
      "11168000000 - 11121920210.230652\n",
      "31946000000 - 31814189025.432343\n",
      "76562000000 - 76246100925.4727\n",
      "43890000 - 43708907.41645982\n",
      "19073000000 - 18994303740.126183\n",
      "7000000000 - 6971117610.280674\n",
      "38752000000 - 38592107090.51381\n",
      "59210000000 - 44814327494.661476\n",
      "52288000000 - 52072256800.90798\n",
      "6785000000 - 6999997954.666122\n",
      "25728000000 - 25621844839.614452\n",
      "5965000000 - 5939392203.959134\n",
      "30594000000 - 30655987628.181427\n",
      "24600000000 - 12176550717.271685\n",
      "11690000000 - 11641766409.168726\n",
      "10243000000 - 10200736811.729277\n",
      "6772000000 - 6744058350.974389\n",
      "10855000000 - 10810211665.656673\n",
      "12227000000 - 12176550717.271685\n",
      "22000000 - 2290510.071949364\n",
      "22000000 - 13444298.248398442\n",
      "22000000 - 2589272.2552471072\n",
      "22000000 - 3485558.805140337\n",
      "11600000 - 11552137.754179401\n",
      "21099000000 - 21011944351.330276\n",
      "43955000000 - 31315256179.32511\n",
      "2800000000 - 2788447044.1122694\n",
      "1950000000 - 1941954191.4353306\n",
      "9486000000 - 9446860235.87464\n",
      "17815000000 - 17741494318.164314\n",
      "25477000000 - 25371880479.588676\n",
      "6457000000 - 5813912086.974082\n",
      "11298000000 - 11264330184.269243\n",
      "17087000000 - 16133157898.07813\n",
      "6025000000 - 6000140514.563008\n",
      "9764000000 - 10130029761.682144\n",
      "10403000000 - 10360076642.821407\n",
      "7854000000 - 7821593958.734916\n",
      "9262000000 - 9223784472.345657\n",
      "83700000000 - 83354649140.07034\n",
      "13500000000 - 13444298248.398441\n",
      "1787000000 - 1779626738.5102234\n",
      "10000000000 - 9958739443.258106\n",
      "40190000 - 400341325.6189758\n",
      "1350000000 - 1344429824.8398442\n",
      "2301000000 - 2190922677.516783\n",
      "8280000000 - 8245836259.017712\n",
      "98705000000 - 100289485563.33075\n"
     ]
    }
   ],
   "source": [
    "for i, elem in enumerate(y_values_true):\n",
    "    if awt[i] == False:\n",
    "        continue\n",
    "    print(str(elem) + \" - \" + str(y_values_predicted[i]))\n",
    "    #print(str(i) + \": \" + str(elem / y_values_predicted[i]))"
   ]
  },
  {
   "cell_type": "code",
   "execution_count": 102,
   "metadata": {},
   "outputs": [
    {
     "name": "stdout",
     "output_type": "stream",
     "text": [
      "81\n"
     ]
    }
   ],
   "source": [
    "print(len(awt[awt == True]))"
   ]
  },
  {
   "cell_type": "code",
   "execution_count": 104,
   "metadata": {},
   "outputs": [
    {
     "data": {
      "text/plain": [
       "LinearRegression(copy_X=True, fit_intercept=False, n_jobs=None,\n",
       "         normalize=False)"
      ]
     },
     "execution_count": 104,
     "metadata": {},
     "output_type": "execute_result"
    }
   ],
   "source": [
    "reg = LinearRegression(fit_intercept=False)\n",
    "reg.fit(x_values[awt].reshape(-1, 1), y_values_true[awt])"
   ]
  },
  {
   "cell_type": "code",
   "execution_count": 105,
   "metadata": {},
   "outputs": [
    {
     "data": {
      "text/plain": [
       "array([1001083.78758989])"
      ]
     },
     "execution_count": 105,
     "metadata": {},
     "output_type": "execute_result"
    }
   ],
   "source": [
    "reg.coef_"
   ]
  },
  {
   "cell_type": "code",
   "execution_count": 106,
   "metadata": {},
   "outputs": [
    {
     "data": {
      "text/plain": [
       "0.9994306045832846"
      ]
     },
     "execution_count": 106,
     "metadata": {},
     "output_type": "execute_result"
    }
   ],
   "source": [
    "reg.score(x_values[awt].reshape(-1, 1), y_values_true[awt])"
   ]
  },
  {
   "cell_type": "code",
   "execution_count": 60,
   "metadata": {},
   "outputs": [],
   "source": [
    "x_values_filtered = x_values[bool_arr]\n",
    "y_values_true_filtered = y_values_true[bool_arr]\n",
    "y_values_predicted_filtered = y_values_predicted[bool_arr]"
   ]
  },
  {
   "cell_type": "code",
   "execution_count": 61,
   "metadata": {},
   "outputs": [
    {
     "data": {
      "text/plain": [
       "LinearRegression(copy_X=True, fit_intercept=False, n_jobs=None,\n",
       "         normalize=False)"
      ]
     },
     "execution_count": 61,
     "metadata": {},
     "output_type": "execute_result"
    }
   ],
   "source": [
    "reg = LinearRegression(fit_intercept=False)\n",
    "reg.fit(x_values_filtered.reshape(-1, 1), y_values_true_filtered)"
   ]
  },
  {
   "cell_type": "code",
   "execution_count": 62,
   "metadata": {},
   "outputs": [
    {
     "data": {
      "text/plain": [
       "array([999408.17336139])"
      ]
     },
     "execution_count": 62,
     "metadata": {},
     "output_type": "execute_result"
    }
   ],
   "source": [
    "reg.coef_"
   ]
  },
  {
   "cell_type": "code",
   "execution_count": 63,
   "metadata": {},
   "outputs": [],
   "source": [
    "score = reg.score(x_values_filtered.reshape(-1, 1), y_values_true_filtered)"
   ]
  },
  {
   "cell_type": "code",
   "execution_count": 64,
   "metadata": {},
   "outputs": [
    {
     "data": {
      "text/plain": [
       "0.9999881136007207"
      ]
     },
     "execution_count": 64,
     "metadata": {},
     "output_type": "execute_result"
    }
   ],
   "source": [
    "score"
   ]
  },
  {
   "cell_type": "code",
   "execution_count": 65,
   "metadata": {},
   "outputs": [
    {
     "data": {
      "text/plain": [
       "array([ 9994081.7336139 , 14391477.69640401,  6296271.49217676,\n",
       "        9134590.7045231 ,  6945886.80486166, 43074492.2718759 ,\n",
       "       37018078.74130588, 11513182.15712321, 43864024.7288314 ,\n",
       "       11593134.81099212])"
      ]
     },
     "execution_count": 65,
     "metadata": {},
     "output_type": "execute_result"
    }
   ],
   "source": [
    "reg.predict(x_values_filtered.reshape(-1, 1))"
   ]
  },
  {
   "cell_type": "code",
   "execution_count": 66,
   "metadata": {},
   "outputs": [
    {
     "data": {
      "text/plain": [
       "array([10.  , 14.4 ,  6.3 ,  9.14,  6.95, 43.1 , 37.04, 11.52, 43.89,\n",
       "       11.6 ])"
      ]
     },
     "execution_count": 66,
     "metadata": {},
     "output_type": "execute_result"
    }
   ],
   "source": [
    "x_values_filtered"
   ]
  },
  {
   "cell_type": "code",
   "execution_count": null,
   "metadata": {},
   "outputs": [],
   "source": []
  }
 ],
 "metadata": {
  "kernelspec": {
   "display_name": "Python 3",
   "language": "python",
   "name": "python3"
  },
  "language_info": {
   "codemirror_mode": {
    "name": "ipython",
    "version": 3
   },
   "file_extension": ".py",
   "mimetype": "text/x-python",
   "name": "python",
   "nbconvert_exporter": "python",
   "pygments_lexer": "ipython3",
   "version": "3.6.4"
  }
 },
 "nbformat": 4,
 "nbformat_minor": 2
}
