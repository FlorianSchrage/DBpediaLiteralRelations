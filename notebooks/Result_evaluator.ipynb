{
 "cells": [
  {
   "cell_type": "code",
   "execution_count": 1,
   "metadata": {},
   "outputs": [],
   "source": [
    "import pandas as pd\n",
    "from IPython.display import Markdown, display, clear_output\n",
    "from utils.myutils import load_object, split_triple\n",
    "from random import randint"
   ]
  },
  {
   "cell_type": "code",
   "execution_count": null,
   "metadata": {},
   "outputs": [],
   "source": [
    "def printmd(string, red_start=0, red_end=0):    \n",
    "    if red_start == red_end:\n",
    "        display(Markdown(str(string)))\n",
    "    else:\n",
    "        prefix = str(string[:red_start])\n",
    "        red = '<font color=red>**' + str(string[red_start:red_end]) + '**</font>'\n",
    "        suffix = str(string[red_end:])\n",
    "\n",
    "        display(Markdown(prefix + red + suffix))"
   ]
  },
  {
   "cell_type": "code",
   "execution_count": null,
   "metadata": {},
   "outputs": [],
   "source": [
    "abstract_dict = load_object('abstract_dict')"
   ]
  },
  {
   "cell_type": "code",
   "execution_count": null,
   "metadata": {},
   "outputs": [],
   "source": [
    "file_path = 'dbpedia/new_triples.ttl'\n",
    "triples_file = open(file_path, 'r', encoding='utf-8')\n",
    "sample_size = 200\n",
    "file_len = 643030"
   ]
  },
  {
   "cell_type": "code",
   "execution_count": null,
   "metadata": {},
   "outputs": [],
   "source": [
    "used = set()\n",
    "for i in range(sample_size):\n",
    "    while True:\n",
    "        number = randint(0, file_len - 1)\n",
    "        if number not in used:\n",
    "            break\n",
    "    used.add(number)    \n",
    "\n",
    "exit = False\n",
    "cnt = 0\n",
    "for i, line in enumerate(triples_file):\n",
    "    if i not in used:\n",
    "        continue\n",
    "    \n",
    "    triple = split_triple(line)\n",
    "    number = triple[2].split(\"^^\")[0]\n",
    "    \n",
    "    clear_output()\n",
    "    printmd('**' + triple[1] + '**')\n",
    "    printmd(triple[0] + ': ' + number)\n",
    "    printmd(abstract_dict[triple[0]], 0, 0)\n",
    "\n",
    "    while True:\n",
    "        aw = input()\n",
    "        if aw.lower() == 'y':\n",
    "            cnt += 1\n",
    "            break\n",
    "        elif aw.lower() == 'n':\n",
    "            cnt += 1\n",
    "            break\n",
    "        elif aw.lower() == 'exit':\n",
    "            clear_output()\n",
    "            exit = True\n",
    "            break\n",
    "        else:\n",
    "            printmd('**Please enter a valid answer! Try \"y\", \"n\" or \"exit\"!**')\n",
    "            continue\n",
    "\n",
    "    if exit:\n",
    "        break\n",
    "\n",
    "print(str(cnt) + \" new result were evaluated.\")"
   ]
  },
  {
   "cell_type": "code",
   "execution_count": 5,
   "metadata": {},
   "outputs": [],
   "source": [
    "file_path = 'C:/Users/D060237/notebooks/Masterarbeit/data/candidates/areaTotal.csv'\n",
    "dtypes = load_object('data_info/candidates/areaTotal_dtypes')"
   ]
  },
  {
   "cell_type": "code",
   "execution_count": null,
   "metadata": {},
   "outputs": [],
   "source": [
    "data = pd.read_csv(file_path, nrows=1000,\n",
    "                   dtypes = dtypes,\n",
    "                   encoding = \"utf-8\",\n",
    "                   sep = ',')\n",
    "relation = file_path.split(\"/\")[-1][:-4]"
   ]
  },
  {
   "cell_type": "code",
   "execution_count": null,
   "metadata": {},
   "outputs": [],
   "source": [
    "use_col = 'LabelPredicted' #Label\n",
    "\n",
    "if 'LabelEvaluated' not in data.columns:\n",
    "    data['LabelEvaluated'] = False\n",
    "exit = False\n",
    "cnt = 0\n",
    "for idx, row in data.iterrows():    \n",
    "    if row['LabelEvaluated'] == False and row[use_col] == True: #Annahme, dass wir nur True Examples evaluieren -> valide?\n",
    "        clear_output()\n",
    "        printmd('**' + relation + '**')\n",
    "        printmd(row['InfoEntity'] + ': ' + str(row['InfoAbstractNumber']))\n",
    "        printmd(abstract_dict[row['InfoEntity']], row['InfoGlobalOffset'], row['InfoGlobalOffset'] + len(str(row['InfoAbstractNumber'])))\n",
    "        \n",
    "        while True:\n",
    "            aw = input()\n",
    "            if aw.lower() == 'y':\n",
    "                data.loc[idx,'Label'] = True\n",
    "                data.loc[idx,'LabelEvaluated'] = True\n",
    "                cnt += 1\n",
    "                break\n",
    "            elif aw.lower() == 'n':\n",
    "                data.loc[idx,'LabelEvaluated'] = True\n",
    "                cnt += 1\n",
    "                break\n",
    "            elif aw.lower() == 'exit':\n",
    "                clear_output()\n",
    "                exit = True\n",
    "                break\n",
    "            else:\n",
    "                printmd('**Please enter a valid answer! Try \"y\", \"n\" or \"exit\"!**')\n",
    "                continue\n",
    "        \n",
    "        if exit:\n",
    "            break\n",
    "\n",
    "data.to_csv(file_path,\n",
    "            encoding = 'utf-8',\n",
    "            sep = ',',\n",
    "            index = False)\n",
    "print(\"Succesfully saved. \" + str(cnt) + \" new result were evaluated.\")"
   ]
  },
  {
   "cell_type": "code",
   "execution_count": null,
   "metadata": {},
   "outputs": [],
   "source": [
    "row['InfoGlobalOffset']"
   ]
  },
  {
   "cell_type": "code",
   "execution_count": null,
   "metadata": {},
   "outputs": [],
   "source": [
    "data['InfoGlobalOffset']"
   ]
  },
  {
   "cell_type": "code",
   "execution_count": null,
   "metadata": {},
   "outputs": [],
   "source": []
  }
 ],
 "metadata": {
  "kernelspec": {
   "display_name": "Python 3",
   "language": "python",
   "name": "python3"
  },
  "language_info": {
   "codemirror_mode": {
    "name": "ipython",
    "version": 3
   },
   "file_extension": ".py",
   "mimetype": "text/x-python",
   "name": "python",
   "nbconvert_exporter": "python",
   "pygments_lexer": "ipython3",
   "version": "3.6.4"
  }
 },
 "nbformat": 4,
 "nbformat_minor": 2
}
